{
  "nbformat": 4,
  "nbformat_minor": 0,
  "metadata": {
    "colab": {
      "provenance": []
    },
    "kernelspec": {
      "name": "python3",
      "display_name": "Python 3"
    },
    "language_info": {
      "name": "python"
    }
  },
  "cells": [
    {
      "cell_type": "markdown",
      "source": [
        "Privacy Experiments on Adult Census Data accompanying thesis: \n",
        "\n"
      ],
      "metadata": {
        "id": "VYMuF0Iv3nFQ"
      }
    },
    {
      "cell_type": "markdown",
      "source": [
        "Analysis Requires Pandas Library version 1.5.0 or greater."
      ],
      "metadata": {
        "id": "h23PmsaW9GHs"
      }
    },
    {
      "cell_type": "code",
      "source": [
        "!pip install pandas==1.5.0"
      ],
      "metadata": {
        "id": "p_Es2J_P3uVq"
      },
      "execution_count": null,
      "outputs": []
    },
    {
      "cell_type": "markdown",
      "source": [
        "Basic Python Libraries."
      ],
      "metadata": {
        "id": "UaTDtIo48_5E"
      }
    },
    {
      "cell_type": "code",
      "source": [
        "import pandas as pd\n",
        "import numpy as np \n",
        "import os \n",
        "from copy import copy"
      ],
      "metadata": {
        "id": "yfhk2FEC3zMf"
      },
      "execution_count": null,
      "outputs": []
    },
    {
      "cell_type": "markdown",
      "source": [
        "SKLearn Models Needed."
      ],
      "metadata": {
        "id": "xivHYV209CIz"
      }
    },
    {
      "cell_type": "code",
      "source": [
        "from sklearn.ensemble import GradientBoostingClassifier\n",
        "from sklearn.linear_model import LogisticRegression"
      ],
      "metadata": {
        "id": "VJPQ5GeL9OIv"
      },
      "execution_count": null,
      "outputs": []
    },
    {
      "cell_type": "markdown",
      "source": [
        "Classification Metrics."
      ],
      "metadata": {
        "id": "hhqqEg_m9QmZ"
      }
    },
    {
      "cell_type": "code",
      "source": [
        "from sklearn.metrics import precision_score\n",
        "from sklearn.metrics import roc_auc_score\n",
        "from sklearn.metrics import accuracy_score\n",
        "from sklearn.metrics import zero_one_loss\n",
        "from sklearn.metrics import log_loss"
      ],
      "metadata": {
        "id": "dfeAEM8o9QPm"
      },
      "execution_count": null,
      "outputs": []
    },
    {
      "cell_type": "markdown",
      "source": [
        "Preprocessing Functions."
      ],
      "metadata": {
        "id": "nCAxoIEl9VT3"
      }
    },
    {
      "cell_type": "code",
      "source": [
        "from sklearn.model_selection import train_test_split\n",
        "from sklearn.preprocessing import OneHotEncoder\n",
        "from sklearn.preprocessing import MinMaxScaler"
      ],
      "metadata": {
        "id": "jhhV-85S9aLf"
      },
      "execution_count": null,
      "outputs": []
    },
    {
      "cell_type": "markdown",
      "source": [
        "Plotting / Visualization Libraries."
      ],
      "metadata": {
        "id": "nJS11Yiv9bMY"
      }
    },
    {
      "cell_type": "code",
      "source": [
        "import seaborn as sns\n",
        "import matplotlib.pyplot as plt"
      ],
      "metadata": {
        "id": "rJ2OmOPs9djE"
      },
      "execution_count": null,
      "outputs": []
    },
    {
      "cell_type": "markdown",
      "source": [
        "PyTorch Functions"
      ],
      "metadata": {
        "id": "isftn8YI8vSH"
      }
    },
    {
      "cell_type": "code",
      "source": [
        "import torch\n",
        "import torch.nn as nn\n",
        "import torch.optim as optim\n",
        "import torch.nn.functional as F\n",
        "from torch.utils.data import Dataset, DataLoader, random_split"
      ],
      "metadata": {
        "id": "0A2g640H31EV"
      },
      "execution_count": null,
      "outputs": []
    },
    {
      "cell_type": "markdown",
      "source": [
        "Libraries for Estimating Total Variation Distance."
      ],
      "metadata": {
        "id": "Rqk8XPVa8xdQ"
      }
    },
    {
      "cell_type": "code",
      "source": [
        "from scipy.stats import ks_2samp\n",
        "from sklearn.neighbors import KernelDensity\n",
        "from scipy.stats import gaussian_kde as kde\n",
        "from scipy.integrate import quad"
      ],
      "metadata": {
        "id": "6H80fUMi32eZ"
      },
      "execution_count": null,
      "outputs": []
    },
    {
      "cell_type": "markdown",
      "source": [
        "Libraries for Repeated Measures ANOVA."
      ],
      "metadata": {
        "id": "7M6hbrSG82Ur"
      }
    },
    {
      "cell_type": "code",
      "source": [
        "from statsmodels.stats.anova import AnovaRM\n",
        "from scipy import stats\n",
        "from statsmodels.stats.multicomp import MultiComparison"
      ],
      "metadata": {
        "id": "DhZr7CCR35Ba"
      },
      "execution_count": null,
      "outputs": []
    },
    {
      "cell_type": "markdown",
      "source": [
        "Disable Warnings"
      ],
      "metadata": {
        "id": "RTGbqhvE87Td"
      }
    },
    {
      "cell_type": "code",
      "source": [
        "import warnings\n",
        "warnings.filterwarnings('ignore')"
      ],
      "metadata": {
        "id": "6D0efVVG365B"
      },
      "execution_count": null,
      "outputs": []
    },
    {
      "cell_type": "markdown",
      "source": [
        "Group Variables Needed in Tests of Disparity (Named after Race column is one hot encoded)."
      ],
      "metadata": {
        "id": "Hfw3hoOU9qya"
      }
    },
    {
      "cell_type": "code",
      "source": [
        "grp_cols = [ 'race_Asian-Pac-Islander',\n",
        "             'race_Black',\n",
        "             'race_Other',\n",
        "             'race_White']"
      ],
      "metadata": {
        "id": "TO7h1mWJ39lq"
      },
      "execution_count": null,
      "outputs": []
    },
    {
      "cell_type": "markdown",
      "source": [
        "Helper Function Used in Analysis to Reverse-One Hotted Partition of the Population of interest- in this notebook it is currently race."
      ],
      "metadata": {
        "id": "7euimL0e9vCY"
      }
    },
    {
      "cell_type": "code",
      "source": [
        "def reverse_one_hot( X , grp_cols):\n",
        "    # will have to add sep and default later on \n",
        "    # utility function for calculation group accuracy metrics \n",
        "    tmp = pd.from_dummies(X[grp_cols], sep = \"race_\", default_category = \"Amer-Indian-Eskimo\")\n",
        "    tmp = tmp.to_numpy()\n",
        "    X['race'] = tmp "
      ],
      "metadata": {
        "id": "tnd2f5tH4Als"
      },
      "execution_count": null,
      "outputs": []
    },
    {
      "cell_type": "markdown",
      "source": [
        "Function For Pre-processing the data in format for Victim Classification Model and conducting Shadow Modeling Attacks - Splits Data in Train, Test, and Reference (for constructing shadow data sets)."
      ],
      "metadata": {
        "id": "tBOhXMky-Ads"
      }
    },
    {
      "cell_type": "code",
      "source": [
        "def create_data(seed_num):\n",
        "  path1 = \"https://archive.ics.uci.edu/ml/machine-learning-databases/adult/adult.data\"\n",
        "  data = pd.read_csv(path1 , header = None , skipinitialspace = True )\n",
        "\n",
        "  path2 = \"https://archive.ics.uci.edu/ml/machine-learning-databases/adult/adult.test\" \n",
        "  data2 = pd.read_csv(path2 , skiprows = [0] , header = None  , skipinitialspace = True)\n",
        "\n",
        "\n",
        "  data = pd.concat( (data , data2) , axis = 0 )\n",
        "\n",
        "  del data2\n",
        "  data.columns = [\"age\",\n",
        "                  \"workclass\",\n",
        "                   \"fnlwgt\",\n",
        "                  \"education\",\n",
        "                  \"education_num\",\n",
        "                  \"marital_status\",\n",
        "                  \"occupation\",\n",
        "                  \"relationship\",\n",
        "                  \"race\",\n",
        "                  \"sex\",\n",
        "                  \"capital_gain\",\n",
        "                  \"capital_loss\",\n",
        "                  \"hours_per_week\",\n",
        "                  \"native_country\",\n",
        "                  \"outcome\"]\n",
        "\n",
        "\n",
        "\n",
        "  # merge like categories \n",
        "  data.age = data.age.astype(float)\n",
        "  data['hours_per_week'] =  data['hours_per_week'].astype(float)\n",
        "\n",
        "  data = data.dropna()\n",
        "  # drop these useless columns \n",
        "  data.drop(['fnlwgt', 'education_num'], axis = 1 , inplace = True)\n",
        "\n",
        "  data['education'].replace('Preschool', 'dropout',inplace=True)\n",
        "  data['education'].replace('10th', 'dropout',inplace=True)\n",
        "  data['education'].replace('11th', 'dropout',inplace=True)\n",
        "  data['education'].replace('12th', 'dropout',inplace=True)\n",
        "  data['education'].replace('1st-4th', 'dropout',inplace=True)\n",
        "  data['education'].replace('5th-6th', 'dropout',inplace=True)\n",
        "  data['education'].replace('7th-8th', 'dropout',inplace=True)\n",
        "  data['education'].replace('9th', 'dropout',inplace=True)\n",
        "  data['education'].replace('HS-Grad', 'HighGrad',inplace=True)\n",
        "  data['education'].replace('HS-grad', 'HighGrad',inplace=True)\n",
        "  data['education'].replace('Some-college', 'CommunityCollege',inplace=True)\n",
        "  data['education'].replace('Assoc-acdm', 'CommunityCollege',inplace=True)\n",
        "  data['education'].replace('Assoc-voc', 'CommunityCollege',inplace=True)\n",
        "  data['education'].replace('Bachelors', 'Bachelors',inplace=True)\n",
        "  data['education'].replace('Masters', 'Masters',inplace=True)\n",
        "  data['education'].replace('Prof-school', 'Masters',inplace=True)\n",
        "  data['education'].replace('Doctorate', 'Doctorate',inplace=True)\n",
        "\n",
        "\n",
        "  data['marital_status'].replace('Never-married', 'NotMarried',inplace=True)\n",
        "  data['marital_status'].replace(['Married-AF-spouse'], 'Married',inplace=True)\n",
        "  data['marital_status'].replace(['Married-civ-spouse'], 'Married',inplace=True)\n",
        "  data['marital_status'].replace(['Married-spouse-absent'], 'NotMarried',inplace=True)\n",
        "  data['marital_status'].replace(['Separated'], 'Separated',inplace=True)\n",
        "  data['marital_status'].replace(['Divorced'], 'Separated',inplace=True)\n",
        "  data['marital_status'].replace(['Widowed'], 'Widowed',inplace=True)\n",
        "\n",
        "  # select columns for one hot encoding \n",
        "  cols = data.drop(\"outcome\", axis = 1 ).select_dtypes(include = ['object']).columns\n",
        "  cols = list(cols)\n",
        "\n",
        "  def create_features(X, cols = cols):\n",
        "      Y = copy(X)\n",
        "      Y.reset_index(inplace=True, drop=True)\n",
        "      Y['outcome'] = np.where( Y['outcome'] == '>50K', 1, 0 )\n",
        "      enc = OneHotEncoder(drop = \"first\")\n",
        "      enc.fit(Y[cols])\n",
        "      data_encoded = pd.DataFrame( enc.transform(Y[cols]).toarray() )\n",
        "      data_encoded = data_encoded.astype('int32')\n",
        "      data_encoded.columns = enc.get_feature_names_out(input_features = cols)\n",
        "      Y = pd.concat([Y.drop(cols, axis = 1), data_encoded], axis = 1)\n",
        "      return(Y)\n",
        "\n",
        "  # create features and train / test set split \n",
        "  data = create_features(data)\n",
        "\n",
        "  # split the data set \n",
        "  X_train, X_test = train_test_split(data , \n",
        "                                     train_size = round(0.4*data.shape[0]) , \n",
        "                                     random_state=seed_num)\n",
        "  #X_train, X_test = train_test_split(data , train_size = 10000, random_state=42)\n",
        "  # X_train, X_test = train_test_split(data , train_size = 24000, random_state=42)\n",
        "  # do another split for reference data \n",
        "\n",
        "  X_test, X_ref = train_test_split(X_test,\n",
        "                                   train_size = round(0.4*data.shape[0])  ,\n",
        "                                   random_state = seed_num)\n",
        "  \n",
        "  num_cols = ['age', 'capital_gain', 'capital_loss', 'hours_per_week']\n",
        "  # categorical columns\n",
        "  cats = [col for col in X_train.columns\n",
        "                      if col not in num_cols + ['outcome']]\n",
        "  \n",
        "  Normer = MinMaxScaler()\n",
        "  # Normer.fit(X_train[num_cols])\n",
        "  Normer.fit( data[num_cols])\n",
        "\n",
        "  X_train[num_cols] = Normer.transform(X_train[num_cols])\n",
        "  X_test[num_cols] = Normer.transform(X_test[num_cols])\n",
        "  X_ref[num_cols] = Normer.transform(X_ref[num_cols])\n",
        "\n",
        "  return X_train , X_test , X_ref , num_cols , cats "
      ],
      "metadata": {
        "id": "nNjnPzh74GyJ"
      },
      "execution_count": null,
      "outputs": []
    },
    {
      "cell_type": "markdown",
      "source": [
        "Test the implementation."
      ],
      "metadata": {
        "id": "FX6fJ09_-TVK"
      }
    },
    {
      "cell_type": "code",
      "source": [
        "X_train , X_test , X_ref , num_cols , cats   = create_data(42)"
      ],
      "metadata": {
        "id": "MVNIt_w27B4e"
      },
      "execution_count": null,
      "outputs": []
    },
    {
      "cell_type": "markdown",
      "source": [
        "PyTorch Implementation of Data Set Class for Tabular Data, Needed for Neural Network Victim Model."
      ],
      "metadata": {
        "id": "c8T0aVsd-WSr"
      }
    },
    {
      "cell_type": "code",
      "source": [
        "class TabularDataset(Dataset):\n",
        "  def __init__(self, data, num_cols = None,  cat_cols=None, output_col=None):\n",
        "    \"\"\"\n",
        "    Characterizes a Dataset for PyTorch\n",
        "\n",
        "    Parameters\n",
        "    ----------\n",
        "\n",
        "    data: pandas data frame\n",
        "      The data frame object for the input data. It must\n",
        "      contain all the continuous, categorical and the\n",
        "      output columns to be used.\n",
        "\n",
        "    cat_cols: List of strings\n",
        "      The names of the categorical columns in the data.\n",
        "      These columns will be passed through the embedding\n",
        "      layers in the model. These columns must be\n",
        "      label encoded beforehand. \n",
        "\n",
        "    output_col: string\n",
        "      The name of the output variable column in the data\n",
        "      provided.\n",
        "    \"\"\"\n",
        "\n",
        "    self.n = data.shape[0]\n",
        "\n",
        "    \n",
        "    self.y = data[output_col].astype(np.float32).values.reshape(-1,)\n",
        "\n",
        "    self.cat_cols = cat_cols if cat_cols else []\n",
        "    self.cont_cols = num_cols if num_cols else []\n",
        "\n",
        "    #if self.cont_cols :\n",
        "    #  self.cont_X = data[self.cont_cols].astype(np.float32).values\n",
        "    #else:\n",
        "      # self.cont_X = np.zeros((self.n, 1))\n",
        "\n",
        "    #if self.cat_cols:\n",
        "    #  self.cat_X = data[cat_cols].astype(np.int64).values\n",
        "    #else:\n",
        "    #   self.cat_X =  np.zeros((self.n, 1))\n",
        "\n",
        "\n",
        "    if self.cont_cols is not None and   cat_cols is not None:\n",
        "       self.cont_X = data[self.cont_cols].astype(np.float32).values\n",
        "       self.cat_X = data[cat_cols].astype(np.int64).values\n",
        "       self.X = np.concatenate( (self.cont_X ,self.cat_X ) , axis = 1  )\n",
        "    elif self.cont_cols is not None and   cat_cols is None : \n",
        "       self.cont_X = data[self.cont_cols].astype(np.float32).values\n",
        "       self.X = self.cont_X\n",
        "    elif self.cont_cols is None and   cat_cols is not None : \n",
        "       self.cat_X = data[cat_cols].astype(np.int64).values\n",
        "       self.X = self.cat_X  \n",
        "\n",
        "\n",
        "\n",
        "    # self.X = np.concatenate( (self.cont_X ,self.cat_X ) , axis = 1  )\n",
        "\n",
        "  def __len__(self):\n",
        "    \"\"\"\n",
        "    Denotes the total number of samples.\n",
        "    \"\"\"\n",
        "    return self.n\n",
        "\n",
        "  def __getitem__(self, idx):\n",
        "    \"\"\"\n",
        "    Generates one sample of data.\n",
        "    \"\"\"\n",
        "    return [self.X[idx],self.y[idx]  ]"
      ],
      "metadata": {
        "id": "a7qdpmql4LYr"
      },
      "execution_count": null,
      "outputs": []
    },
    {
      "cell_type": "markdown",
      "source": [
        "PyTorch Neural Network Victim - 1 hidden layer with log sigmoid output layer."
      ],
      "metadata": {
        "id": "_jeMdZrU-dlE"
      }
    },
    {
      "cell_type": "code",
      "source": [
        "class Net(nn.Module):\n",
        "\n",
        "    def __init__(self, D_in, H, D_out):\n",
        "        super().__init__()\n",
        "        self.fc1 = nn.Linear(D_in, H)\n",
        "        # self.fc2 = nn.Linear(H, H )\n",
        "        self.fc3 = nn.Linear(H, D_out )\n",
        "        \n",
        "        self.relu = nn.ReLU()\n",
        "\n",
        "    def forward(self, x):\n",
        "        # layer 1 \n",
        "        x = self.fc1(x)\n",
        "        x = self.relu(x)\n",
        "\n",
        "        # output layer \n",
        "        x = self.fc3(x)\n",
        "        x = F.logsigmoid(x) # which output to use ... \n",
        "\n",
        "        return x.squeeze()\n",
        "\n"
      ],
      "metadata": {
        "id": "HrEAVR-E4OKd"
      },
      "execution_count": null,
      "outputs": []
    },
    {
      "cell_type": "markdown",
      "source": [
        "PyTorch Class that includes entire specification of the fitting procedure / parameters. Includes prediction method."
      ],
      "metadata": {
        "id": "Y9bgsEKm-lEV"
      }
    },
    {
      "cell_type": "code",
      "source": [
        "class nn_victim(nn.Module) :\n",
        "  # try to update to include fitting procedure\n",
        "  def __init__(self ,mod = None):\n",
        "    super().__init__()\n",
        "    # instantiate the model if its not none \n",
        "    if mod is not None: \n",
        "      self.net = mod\n",
        "\n",
        "  def fit(self, X,  epochs = 200, lr=0.01, batch_size  = 200 , weight_decay = 1e-07 ,\n",
        "          num_cols = num_cols , cat_cols = cats,  output_col = 'outcome', D_in = 85 , plot = True ):\n",
        "    n_epochs = epochs\n",
        "    \n",
        "    train= TabularDataset(X , num_cols = num_cols , cat_cols =cat_cols ,  output_col = output_col)\n",
        "    trainloader = DataLoader(train, batch_size=batch_size , shuffle=True)\n",
        "\n",
        "    # Use gpu if available\n",
        "    device = torch.device(\"cuda:0\" if torch.cuda.is_available() else \"cpu\")\n",
        "\n",
        "    # Define the model\n",
        "    # D_in ,  H =  87 , 256\n",
        "    D_in ,  H =  D_in , 32\n",
        "    net = Net(D_in, H , 1 ).to(device)\n",
        "\n",
        "    # Loss function\n",
        "    criterion = nn.CrossEntropyLoss()\n",
        "\n",
        "    # Optimizer\n",
        "    # optimizer = optim.SGD(net.parameters(), lr=lr, weight_decay = weight_decay)\n",
        "    # remove weight decay\n",
        "    optimizer = optim.SGD(net.parameters(), lr=lr )\n",
        "\n",
        "    # Train the net\n",
        "    loss_per_epoch = []\n",
        "    test_loss_per_epoch = []\n",
        "    for epoch in range(n_epochs):\n",
        "\n",
        "        running_loss = 0.0\n",
        "        for i, (inputs, labels) in enumerate(trainloader):\n",
        "\n",
        "            \n",
        "            inputs = inputs.to(device)\n",
        "            labels = labels.to(device)\n",
        "\n",
        "            # Zero the parameter gradients\n",
        "            optimizer.zero_grad()\n",
        "\n",
        "            # Forward + backward + optimize\n",
        "            outputs = net(inputs.float())\n",
        "            loss = criterion(outputs, labels.float())\n",
        "            loss.backward()\n",
        "            optimizer.step()\n",
        "\n",
        "            # Save loss to plot\n",
        "            running_loss += loss.item()\n",
        "\n",
        "\n",
        "            \n",
        "        # add code to calculate testing loss per epoch here ... \n",
        "        loss_per_epoch.append(running_loss / (i + 1))\n",
        "        #if epoch % 5 == 0 :\n",
        "        #  print(\"Loss \", epoch , \":\", running_loss / (i + 1)) \n",
        "\n",
        "    # save model to self for predictionm \n",
        "    self.net = net  \n",
        "    # print(\"Training:\", loss_per_epoch[-1]) \n",
        "\n",
        "\n",
        "    # Plot training loss curve\n",
        "    # if plot :\n",
        "     # plt.plot(np.arange(n_epochs), loss_per_epoch, \"-\",  label=\"Loss per epoch\")\n",
        "     # plt.xlabel(\"Number of epochs\")\n",
        "     # plt.ylabel(\"Loss\")\n",
        "     # plt.legend()\n",
        "     # plt.show()   \n",
        "\n",
        "\n",
        "  def predict_proba(self,newX):\n",
        "    preds = self.net.forward( torch.from_numpy(newX).float()  )\n",
        "    # last layer is log sigmoid , so exp the results to \n",
        "    preds =  np.exp( preds .detach().numpy() )\n",
        "    return(preds) "
      ],
      "metadata": {
        "id": "Groec4kZ4Uz5"
      },
      "execution_count": null,
      "outputs": []
    },
    {
      "cell_type": "markdown",
      "source": [
        "Test the class fits..."
      ],
      "metadata": {
        "id": "lcvcNdzM4w18"
      }
    },
    {
      "cell_type": "code",
      "source": [
        "victim = nn_victim()\n",
        "victim.fit(X_train , epochs = 200 )"
      ],
      "metadata": {
        "id": "jV49tSkw4wHX"
      },
      "execution_count": null,
      "outputs": []
    },
    {
      "cell_type": "markdown",
      "source": [
        "Class for estimating the Total Variation Distance between two distributions based on empirical samples. Not used in this notebook, but the privacy experiments can be configured to run this."
      ],
      "metadata": {
        "id": "HOze0fPW-zwg"
      }
    },
    {
      "cell_type": "code",
      "source": [
        "class tvd_gap():\n",
        "  def __init__(self, x_in , x_out):\n",
        "    super().__init__()\n",
        "    self.x_in = x_in\n",
        "    self.x_out = x_out\n",
        "\n",
        "    self.kern_in = kde(self.x_in)\n",
        "    self.kern_out = kde(self.x_out)\n",
        "\n",
        "  def kernel_diff(self , x_new):\n",
        "      out = np.abs( self.kern_in.evaluate(x_new) -  \n",
        "                    self.kern_out.evaluate(x_new) )\n",
        "      return out\n",
        "\n",
        "  def total_var_dist(self):\n",
        "    # 1/2 the estimate ... \n",
        "    est , err = quad(self.kernel_diff, 0, 1 )\n",
        "    return   0.5 * est  \n",
        "\n",
        " # also just use KS-two sample test as estimator \n",
        "\n",
        "\n",
        "class tvd_gap_2():\n",
        "  def __init__(self, x_in , x_out):\n",
        "    super().__init__()\n",
        "    self.x_in = x_in.reshape(-1,1)\n",
        "    self.x_out = x_out.reshape(-1,1)\n",
        "\n",
        "    self.kern_in = KernelDensity(kernel= 'gaussian', bandwidth= \"scott\")\n",
        "    self.kern_in.fit(self.x_in)\n",
        "\n",
        "    self.kern_out = KernelDensity(kernel= 'gaussian', bandwidth= \"scott\")\n",
        "    self.kern_out.fit(self.x_out)\n",
        "\n",
        "  def kernel_diff(self , x_new):\n",
        "      x_new = np.array(x_new).reshape(-1,1)\n",
        "    \n",
        "      out = np.abs( np.exp( self.kern_in.score(x_new)) -  \n",
        "                      np.exp( self.kern_out.score(x_new)) )\n",
        "\n",
        "      # out = min(  np.exp( self.kern_in.score(x_new))  ,\n",
        "      #               np.exp( self.kern_out.score(x_new)) )\n",
        "      return out\n",
        "\n",
        "  def total_var_dist(self):\n",
        "    # 1/2 the estimate ... \n",
        "    est1 , err1 = quad(self.kernel_diff, 0, 1 )\n",
        "\n",
        "\n",
        "    return 0.5 * est1  # , 0.5 * est2  , 0.5* est3 "
      ],
      "metadata": {
        "id": "-k0dxb_x49Fr"
      },
      "execution_count": null,
      "outputs": []
    },
    {
      "cell_type": "markdown",
      "source": [
        "Class object for shadow model attack. Possible Configurations Include:\n",
        "* Group Aware Attack - Includes Group Indicator Variables In Attack Feature Set.\n",
        "* Multiple Attacks - Original Shadow Model Attack (one classifier for each outcome class) or only one attack model on entire attack data set.\n",
        "* Zero One Output - Release Mechanism of Victim Model is Zero One Loss. Set to false to release the predicted probabilities.\n",
        "* Sklearn model specifies whether the victim model is sklearn class or not."
      ],
      "metadata": {
        "id": "CvYz_7QU5GYW"
      }
    },
    {
      "cell_type": "code",
      "source": [
        "# from law notebook....\n",
        "class attacker(nn.Module):\n",
        "  def __init__(self,\n",
        "               victim_model,\n",
        "               N,\n",
        "               size ,\n",
        "               victim_model_class,\n",
        "               attack_class, \n",
        "               ref_set ,\n",
        "               group_aware ,\n",
        "               group_cols,\n",
        "               num_cols ,\n",
        "               cat_cols , \n",
        "               multiple_attacks,\n",
        "               zero_one_output,\n",
        "               sklearn_model ):\n",
        "    super().__init__()\n",
        "    # initialize basic variables \n",
        "    self.victim_model = victim_model # model we are gonna hack \n",
        "    self.N = N                   # number \n",
        "    self.size = size             # number\n",
        "    self.victim_model_class = victim_model_class # nn class\n",
        "    self.attack_class = attack_class # attack class \n",
        "    self.ref_set = ref_set        # pd.dataframe\n",
        "\n",
        "    # is / is not group aware attack \n",
        "    self.group_aware = group_aware  # boolean \n",
        "    self.group_cols = group_cols    # list\n",
        "    self.num_cols = num_cols        # list\n",
        "    self.cat_cols = cat_cols        # list \n",
        "    self.multiple_attacks = multiple_attacks # boolean multiple attacks or single model \n",
        "\n",
        "    self.zero_one_output = zero_one_output\n",
        "\n",
        "    self.sklearn_model = sklearn_model \n",
        "\n",
        "\n",
        "\n",
        "  def reverse_one_hot(self, X , grp_cols):\n",
        "    # will have to add sep and default later on \n",
        "    # utility function for calculation group accuracy metrics \n",
        "    tmp = pd.from_dummies(X[grp_cols], sep = \"race_\", default_category = \"Amer-Indian-Eskimo\")\n",
        "    tmp.columns = [\"race\"]\n",
        "    return pd.concat( (X, tmp), axis = 1 )      \n",
        "\n",
        "\n",
        "\n",
        "  def shadow_model(self): \n",
        "    X_attack = None \n",
        "\n",
        "    # add only these columns to attack set\n",
        "    if self.group_aware:\n",
        "        cols = ['y_pred' , 'outcome',   'in'] + self.group_cols \n",
        "    else:\n",
        "        cols = ['y_pred' , 'outcome',   'in']\n",
        "\n",
        "    for i in range(self.N):\n",
        "      # sample data with x \n",
        "    \n",
        "      X = self.ref_set.sample(self.size*2)\n",
        "      X_train_s, X_test_s = train_test_split(X, test_size = 0.5)\n",
        "\n",
        "      # create classes for prediction purposes \n",
        "      train_s= TabularDataset(X_train_s ,\n",
        "                              num_cols = self.num_cols ,\n",
        "                              cat_cols = self.cat_cols ,\n",
        "                              output_col = 'outcome')\n",
        "      \n",
        "      test_s = TabularDataset(X_test_s ,\n",
        "                              num_cols = self.num_cols ,\n",
        "                              cat_cols = self.cat_cols ,\n",
        "                              output_col = 'outcome')\n",
        "    \n",
        "      # train shadow model here \n",
        "      # get train / test predictions\n",
        "      # then label 0 / 1 and output a data set \n",
        "\n",
        "      shadow = self.victim_model_class()\n",
        "\n",
        "      if self.sklearn_model is not True:\n",
        "        shadow.fit(X_train_s , plot = False)\n",
        "        y_pred_train = shadow.predict_proba( train_s.X )\n",
        "        y_pred_test  = shadow.predict_proba( test_s.X )\n",
        "      else:\n",
        "        shadow.fit(X_train_s.drop('outcome', axis =1 ) , X_train_s['outcome']) \n",
        "        y_pred_train = shadow.predict_proba( X_train_s.drop('outcome', axis =1 )  )[:,1]\n",
        "        y_pred_test  = shadow.predict_proba( X_test_s.drop('outcome', axis =1 ) )[:,1]\n",
        "       \n",
        "\n",
        "\n",
        "      if self.zero_one_output is True : \n",
        "        # make it a hard guess\n",
        "        y_pred_train = np.where(y_pred_train >= 0.5 , 1, 0 )\n",
        "        y_pred_test  = np.where(y_pred_test >= 0.5 , 1, 0 )\n",
        "\n",
        "        # turn it into whether its correct or incorrect ... \n",
        "        y_pred_train = train_s.y ==  y_pred_train\n",
        "        y_pred_test =  test_s.y == y_pred_test\n",
        "\n",
        "\n",
        "\n",
        "      # add these and y_in / y_out to data sets\n",
        "\n",
        "      y_in  = np.ones( (X_train_s.shape[0],1)) \n",
        "      y_out = np.zeros( (X_test_s.shape[0],1)) \n",
        "     \n",
        "      # code from sklearn classifier ... \n",
        "      #X_train['y_pred'] = y_pred_train[:,1]\n",
        "      #X_test['y_pred']  = y_pred_test[:,1]\n",
        "      X_train_s['y_pred'] = y_pred_train\n",
        "      X_test_s['y_pred']  = y_pred_test\n",
        "\n",
        "      X_train_s['in']  = y_in\n",
        "      X_test_s['in']   = y_out\n",
        "\n",
        "    \n",
        "      if X_attack is None:\n",
        "         X_attack = pd.concat( (X_train_s[cols],\n",
        "                             X_test_s[cols] ) , axis = 0 )\n",
        "      else:\n",
        "         X_attack = pd.concat( (X_attack,\n",
        "                             X_train_s[cols] ,\n",
        "                             X_test_s[cols]) , axis = 0 )\n",
        "        \n",
        "\n",
        "    # save the output for further access\n",
        "    self.X_attack = X_attack \n",
        "\n",
        "  def estimate_vuln(self, Y_mem_label, Y_mem_pred): \n",
        "    # implement vuln estimation\n",
        "    n1 = len(Y_mem_label)\n",
        "    n2 = len(Y_mem_pred)\n",
        "    member_idx = np.where(Y_mem_label ==1 , True , False )\n",
        "    p1 = np.equal( Y_mem_label[member_idx] , Y_mem_pred[member_idx]  ).sum()\n",
        "    p2 = np.equal( Y_mem_label[~member_idx] , Y_mem_pred[~member_idx]  ).sum()\n",
        "\n",
        "    vuln = 2*( p1/n1 + p2/n2) -1 \n",
        "    return(vuln)\n",
        "\n",
        "    \n",
        "\n",
        "  def solo_attack_train(self):\n",
        "    # rewrite some codes here ....\n",
        "    # for no loop over classes ....\n",
        "    # idea is to also throw in outcome label itself \n",
        "    if self.group_aware:\n",
        "           # cols = ['y_pred','in'] +grp_cols \n",
        "           pred_cols = ['y_pred' , 'outcome']  + grp_cols\n",
        "           attack = self.attack_class(verbose = 0 , n_estimators =100 )\n",
        "           attack.fit(self.data_train[pred_cols], self.data_train['in'])\n",
        "           pred_y = attack.predict_proba(self.data_test[pred_cols])[:,1]\n",
        "           y = self.data_test['in']\n",
        "           models = attack \n",
        "    else:\n",
        "          # cols = ['y_pred','in']\n",
        "          pred_cols = ['y_pred' , 'outcome']   \n",
        "          attack = self.attack_class(verbose = 0 , n_estimators = 100)\n",
        "          attack.fit(self.data_train[pred_cols], self.data_train['in'])\n",
        "          pred_y = attack.predict_proba(self.data_test[pred_cols])[:,1]\n",
        "          y = self.data_test['in']\n",
        "          models = attack \n",
        "\n",
        "    return(pred_y , y , models )      \n",
        "\n",
        "  def multiple_attack_train(self):  \n",
        "    out_classes = self.X_attack['outcome'].unique()\n",
        "    out_classes = list(out_classes)\n",
        "    true_y = []\n",
        "    pred_y = []\n",
        "    # for future use ... to save models or make it a class \n",
        "    models = {}\n",
        "    for c in out_classes:\n",
        "        # better yet train test split the attack data ...\n",
        "        # print('Training attack model for class {}...'.format(c))\n",
        "        # grab the rows for just one of the outcomes \n",
        "        c_train_indices = np.where( self.data_train['outcome'] == c ,True, False )\n",
        "        c_test_indices = np.where( self.data_test['outcome'] == c ,True, False )\n",
        "\n",
        "        c_train_data = self.data_train.loc[c_train_indices]\n",
        "        c_test_data = self.data_test.loc[c_test_indices]\n",
        "\n",
        "\n",
        "        # get attack model per class \n",
        "\n",
        "        if self.group_aware:\n",
        "           cols = ['y_pred','in'] +grp_cols \n",
        "           pred_cols = ['y_pred']  + grp_cols\n",
        "           attack = self.attack_class(verbose = 0 , n_estimators = 100)\n",
        "           attack.fit(c_train_data[pred_cols], c_train_data['in'])\n",
        "           c_pred_y = attack.predict_proba(c_test_data[pred_cols])[:,1]\n",
        "           c_y = c_test_data['in']\n",
        "        else:\n",
        "          cols = ['y_pred','in']\n",
        "          pred_cols = ['y_pred']  \n",
        "          attack = self.attack_class(verbose = 0, n_estimators = 100 )\n",
        "          attack.fit(c_train_data[pred_cols], c_train_data['in'])\n",
        "          c_pred_y = attack.predict_proba(c_test_data[pred_cols])[:,1]\n",
        "          c_y = c_test_data['in']\n",
        "      \n",
        "        models[c] = attack\n",
        "        true_y.append(c_y)\n",
        "        pred_y.append(c_pred_y)\n",
        "\n",
        "    true_y = np.concatenate(true_y)\n",
        "    pred_y = np.concatenate(pred_y)\n",
        "    return pred_y , true_y , models \n",
        "   \n",
        "\n",
        "\n",
        "  def train(self):  \n",
        "    out_classes = self.X_attack['outcome'].unique()\n",
        "    out_classes = list(out_classes)\n",
        "    # build a model for each class \n",
        "    data_train , data_test = train_test_split(self.X_attack , test_size = 0.25 )\n",
        "    self.data_train = data_train\n",
        "    self.data_test = data_test \n",
        "\n",
        "    if self.multiple_attacks:\n",
        "       pred_y, true_y , models = self.multiple_attack_train()\n",
        "    else:  \n",
        "      pred_y, true_y , models = self.solo_attack_train()\n",
        "    \n",
        "    \n",
        "    # plt.hist(pred_y)\n",
        "    # plt.show()\n",
        "    hard_pred_y = np.where(pred_y >= 0.5, 1,0)\n",
        "    # print(\"Shadow Data Attack AUC: \" , roc_auc_score(true_y, pred_y))  \n",
        "    # print(\"Shadow Data Attack Accuracy: \" , roc_auc_score(true_y, hard_pred_y))\n",
        "    # print(\"Shadow Data Attack Precision \" , precision_score(true_y, hard_pred_y))  \n",
        "    \n",
        "    # save the models \n",
        "    self.attack_models = models  \n",
        "\n",
        "  def multiple_attack_predict(self , X , y):\n",
        "    # repeat procedure ... \n",
        "     preds = []\n",
        "     labels = []\n",
        "     for c in list(self.attack_models.keys()) :\n",
        "\n",
        "        c_indices = np.where( X['outcome'] == c ,True, False )\n",
        "        c_data = X.loc[c_indices]\n",
        "        if self.group_aware:\n",
        "          pred_cols = ['y_pred'] + self.group_cols\n",
        "          # y_pred = self.attack_models[c].predict_proba(c_data[pred_cols].to_numpy())\n",
        "          y_pred = self.attack_models[c].predict_proba(c_data[pred_cols])[:,1]\n",
        "          X.loc[c_indices, ['mia_pred']] = y_pred\n",
        "          # y = y[c_indices]\n",
        "          #preds.append(y_pred)\n",
        "          #labels.append(y)\n",
        "        else:  \n",
        "          pred_cols = ['y_pred']\n",
        "          # y_pred = self.attack_models[c].predict_proba(c_data[pred_cols].to_numpy().reshape(-1,1))\n",
        "          y_pred = self.attack_models[c].predict_proba(c_data[pred_cols])[:,1]\n",
        "          X.loc[c_indices, ['mia_pred']] = y_pred\n",
        "          #y = y[c_indices]\n",
        "          #preds.append(y_pred)\n",
        "          #labels.append(y)\n",
        "\n",
        "     # return X  \n",
        "\n",
        "  def solo_attack_predict(self, X , y ):\n",
        "    # \n",
        "    if self.group_aware:\n",
        "          pred_cols = ['y_pred' ,'outcome'] + self.group_cols\n",
        "          y_pred = self.attack_models.predict_proba(X[pred_cols])[:,1]\n",
        "          X['mia_pred'] = y_pred\n",
        "    else:\n",
        "          pred_cols = ['y_pred' , 'outcome'] \n",
        "          y_pred = self.attack_models.predict_proba(X[pred_cols])[:,1]\n",
        "          X['mia_pred'] = y_pred     \n",
        "\n",
        "\n",
        "\n",
        "  def predict(self, Xnew, Y_member_label):\n",
        "    # need to decide what class  Y_member_label is ... \n",
        "\n",
        "    # Y_member_label - ndarray \n",
        "    X = copy(Xnew)\n",
        "\n",
        "    # get victim predictions \n",
        "    if self.sklearn_model is True:\n",
        "      y_hat = self.victim_model.predict_proba(X.drop('outcome', axis =1 ) )[:,1]\n",
        "    else:  \n",
        "      y_hat = self.victim_model.predict_proba(X.drop('outcome', axis =1 ).to_numpy() )\n",
        "\n",
        "    if self.zero_one_output is True:\n",
        "      # make it whether model is correct or incorrect \n",
        "      y_hat = np.where(y_hat >= 0.5 , 1 , 0 )\n",
        "      y_hat = X['outcome'] == y_hat\n",
        "\n",
        "\n",
        "    X['y_pred'] = y_hat\n",
        "\n",
        "    # place holder for class prediction ...\n",
        "    X['mia_pred'] = np.zeros((X.shape[0]))\n",
        "\n",
        "    \n",
        "    # should be setting mia pred column in place ... \n",
        "    if self.multiple_attacks:\n",
        "       self.multiple_attack_predict(X , Y_member_label)\n",
        "    else:\n",
        "       self.solo_attack_predict(X , Y_member_label )\n",
        "  \n",
        "    hard_labels = np.where(X['mia_pred']  >= 0.5 , 1, 0 ) \n",
        "\n",
        "    auc = roc_auc_score( Y_member_label, X['mia_pred']   )\n",
        "    acc = accuracy_score(  Y_member_label, hard_labels)\n",
        "    prec = precision_score(   Y_member_label, hard_labels)\n",
        "    vuln = self.estimate_vuln( Y_member_label, hard_labels)\n",
        "\n",
        "\n",
        "    # group accuracy metrics \n",
        "    X = self.reverse_one_hot(X , self.group_cols )\n",
        "    grps_values = list( X['race'].unique() )\n",
        "    # sort it ... \n",
        "    grps_values.sort()\n",
        "\n",
        "    # probably better making a data frame \n",
        "    df = pd.DataFrame(columns = ['race' , \"Accuracy\", \"AUC\", \"Precision\"])\n",
        "    for i in grps_values:\n",
        "      idx = np.where(X['race'] == i , True , False)\n",
        "      grp_X = X.loc[idx]\n",
        "      grp_Y = Y_member_label[idx] \n",
        "      \n",
        "      hard_grp_labels = np.where(grp_X['mia_pred'] >= 0.5 ,1 ,0)\n",
        "      d = {'race':[i],\n",
        "            'Accuracy':[roc_auc_score(  grp_Y , grp_X['mia_pred'])],\n",
        "           \"AUC\": [accuracy_score(  grp_Y , hard_grp_labels)], \n",
        "           \"Precision\":[precision_score(  grp_Y , hard_grp_labels)],\n",
        "           'Vulnerability':[self.estimate_vuln(grp_Y , hard_grp_labels )] }\n",
        "      d = pd.DataFrame(d)     \n",
        "      df = pd.concat( (df ,d ) , axis = 0 , ignore_index = True )    \n",
        "\n",
        "    # code for overall accuracy need code for grp level accuracy ... \n",
        "    return auc , acc , prec  , vuln,  df\n"
      ],
      "metadata": {
        "id": "ol_kiXnY5EPl"
      },
      "execution_count": null,
      "outputs": []
    },
    {
      "cell_type": "markdown",
      "source": [
        "Function for running privacy experiments and getting diagnostic plots."
      ],
      "metadata": {
        "id": "OdM0FxO85aKS"
      }
    },
    {
      "cell_type": "code",
      "source": [
        "def run_privacy_experiments(num_sims,\n",
        "                            group_aware,\n",
        "                            zero_one_output,\n",
        "                            model_obj,\n",
        "                            sklearn_model ):\n",
        "  auc1 = []\n",
        "  acc1 = []\n",
        "  prec1 = []\n",
        "  ks = []\n",
        "  vuln1_est = [] # vulnerability estimator ... \n",
        "  vuln1 = []     # vulnerability from shadow attack \n",
        "\n",
        "\n",
        "  # METRICS FROM THE SHADOW ATTACK\n",
        "  dt1 = pd.DataFrame(columns = ['race','Accuracy',\"AUC\", \"Precision\" , 'Num'])\n",
        "  # needs to be changed ...\n",
        "  dt2 = pd.DataFrame(columns = [ 'Amer-Indian-Eskimo',\n",
        "                               'Asian-Pac-Islander',\n",
        "                               'Black',\n",
        "                               'Other',\n",
        "                               'White', \n",
        "                               'Num'] )\n",
        "  # need one for overall accuracy etc, ,,,\n",
        "  for i in range(num_sims):\n",
        "\n",
        "    X_train , X_test , X_ref , num_cols , cats   = create_data(i)\n",
        "\n",
        "    # instatiate \n",
        "    np.random.seed(i)\n",
        "  \n",
        "    # fit new victim model \n",
        "    if sklearn_model: \n",
        "      victim = model_obj()\n",
        "      victim.fit(X_train.drop('outcome', axis =1 ) , X_train['outcome'])\n",
        "    else:  \n",
        "      victim = model_obj()\n",
        "      victim.fit(X_train)\n",
        "\n",
        "    # estimator of worst case vulnerability by sub-group\n",
        "    train= TabularDataset(X_train, num_cols = num_cols , cat_cols =cats ,  output_col = 'outcome')\n",
        "    test = TabularDataset(X_test, num_cols = num_cols , cat_cols =cats ,  output_col = 'outcome')\n",
        "    ref = TabularDataset(X_ref, num_cols = num_cols , cat_cols =cats ,  output_col = 'outcome')\n",
        " \n",
        "\n",
        "    # create hard labels \n",
        "\n",
        "    if sklearn_model :\n",
        "      # select only one col from sklearn models \n",
        "      y_hat1 = victim.predict_proba(X_train.drop('outcome' , axis = 1 ))[:,1]\n",
        "      y_hat2 = victim.predict_proba(X_test.drop('outcome' , axis = 1 ))[:,1]\n",
        "    else:  \n",
        "      # my custom neural net stuff\n",
        "      y_hat1 = victim.predict_proba(train.X)\n",
        "      y_hat2 = victim.predict_proba(test.X)\n",
        "\n",
        "    if zero_one_output:\n",
        "       # make the output \n",
        "       X_train['y_pred'] = np.where( y_hat1 >= 0.5 , 1 , 0 ) \n",
        "       X_test['y_pred']  = np.where( y_hat2 >= 0.5 , 1 , 0 ) \n",
        "\n",
        "       # zero-one-loss estimator\n",
        "       train_est = zero_one_loss(X_train['outcome'] ,  X_train['y_pred'] )\n",
        "       test_est = zero_one_loss(X_test['outcome'] ,  X_test['y_pred'] )\n",
        "       vuln1_est.append( abs( train_est - test_est ))\n",
        "\n",
        "    else :   \n",
        "       # raw predicted probability \n",
        "       X_train['y_pred'] = y_hat1 \n",
        "       X_test['y_pred']  = y_hat2 \n",
        "\n",
        "       # ks estimator \n",
        "       est_ks = ks_2samp(X_train['y_pred'].to_numpy() , X_test['y_pred'].to_numpy() )[0]\n",
        "       ks.append(est_ks)\n",
        "\n",
        "       # tvd estimator \n",
        "       tvd = tvd_gap_2(X_train['y_pred'].to_numpy() , X_test['y_pred'].to_numpy())\n",
        "       est = tvd.total_var_dist()\n",
        "       vuln1_est.append(est)\n",
        "\n",
        "    # edit this \n",
        "    grp_cols = [ 'race_Asian-Pac-Islander',\n",
        "             'race_Black',\n",
        "             'race_Other',\n",
        "             'race_White']\n",
        "\n",
        "    reverse_one_hot(X_train  ,grp_cols)\n",
        "    reverse_one_hot(X_test  , grp_cols)\n",
        "\n",
        "    grp_vals = X_test['race'].unique()\n",
        "    grp_vals.sort()\n",
        "\n",
        "\n",
        "\n",
        "    if zero_one_output :\n",
        "       D = {}\n",
        "       for j in grp_vals : \n",
        "        train_idx = np.where(X_train['race'] == j , True , False)\n",
        "        test_idx  = np.where(X_test['race'] == j , True , False)\n",
        "        in_preds = X_train.loc[train_idx, 'y_pred']\n",
        "        out_preds = X_test.loc[test_idx, 'y_pred']\n",
        "    \n",
        "        train_est = zero_one_loss(X_train.loc[ train_idx, 'outcome'] ,  in_preds )\n",
        "        test_est = zero_one_loss(X_test.loc[ test_idx, 'outcome'] ,  out_preds  )\n",
        "        est = np.abs(train_est - test_est )\n",
        "\n",
        "        D[j] = [est]\n",
        "       # need like simulation number identifier\n",
        "       D = pd.DataFrame(D)  \n",
        "       D['Num'] = i\n",
        "       dt2 = pd.concat( (dt2 , D) , axis = 0  )\n",
        "\n",
        "    else:\n",
        "      D1 = {}\n",
        "      D2 = {}\n",
        "      for j in grp_vals : \n",
        "        train_idx = np.where(X_train['race'] == j , True , False)\n",
        "        test_idx  = np.where(X_test['race'] == j , True , False)\n",
        "        in_preds = X_train.loc[train_idx, 'y_pred']\n",
        "        out_preds = X_test.loc[test_idx, 'y_pred']\n",
        "        # try different tvd gaps \n",
        "        tvd = tvd_gap_2(in_preds.to_numpy() , out_preds.to_numpy())\n",
        "        est = tvd.total_var_dist()\n",
        "\n",
        "        est_ks_grp = ks_2samp(in_preds , out_preds)[0]\n",
        "        D1[j] = [est  ]\n",
        "        D2[j] = [est_ks_grp]\n",
        "\n",
        "      D1 = pd.DataFrame(D1)  \n",
        "      D2 = pd.DataFrame(D2)\n",
        "      D1['Num'] = i\n",
        "      D2['Num'] = i \n",
        "      D1['Estimator'] = 'TVD'\n",
        "      D2['Estimator'] = 'KS'\n",
        "      D  = pd.concat( (D1 , D2) , axis = 0 )\n",
        "      dt2 = pd.concat( (dt2 , D) , axis = 0  )\n",
        "\n",
        "  \n",
        "    # remove race / prediction\n",
        "    X_train.drop(['race','y_pred'], axis = 1 , inplace = True)  \n",
        "    X_test.drop(['race','y_pred'], axis = 1 , inplace = True )\n",
        "\n",
        "    # do attacks \n",
        "    test_attack = attacker(victim_model = victim , # model we want to attack \n",
        "                      N = 5,  # number of shadow models\n",
        "                      size = 4500,  # size of shadow training set \n",
        "                      victim_model_class = model_obj , # used to train shadow models \n",
        "                      attack_class = GradientBoostingClassifier, # used to train attack models\n",
        "                      ref_set = X_ref , # reference set for shadow training\n",
        "                      group_aware = group_aware , # boolean for group or not group aware shadow training\n",
        "                      group_cols = grp_cols, # list \n",
        "                      num_cols = num_cols ,  # list \n",
        "                      cat_cols = cats,       # list \n",
        "                      multiple_attacks=  True ,\n",
        "                      zero_one_output = zero_one_output,\n",
        "                      sklearn_model = sklearn_model  )  # boolean  \n",
        "\n",
        "    # create shadow modeling data \n",
        "    test_attack.shadow_model()\n",
        "\n",
        "    # train attack model \n",
        "    test_attack.train()\n",
        "\n",
        "    # create the data set to try \n",
        "    x_try_in = X_train\n",
        "    x_try_out = X_test\n",
        "\n",
        "    in_mem = np.ones(X_train.shape[0])\n",
        "    out_mem = np.zeros(X_test.shape[0])\n",
        "\n",
        "    y_mem = np.concatenate( (in_mem, out_mem)   )\n",
        "    x_try = pd.concat( (x_try_in, x_try_out) , axis = 0  , ignore_index= True)\n",
        "\n",
        "    # predict on real data ... \n",
        "    tmp = test_attack.predict(x_try , y_mem)\n",
        "    #print(\"Estimated Worst Case Attack Vuln:\" , vuln1_est[i] )\n",
        "    #print(\"Estimated Worst Case Attack Vuln LB:\" , est_ks )\n",
        "\n",
        "    # append statistics ... \n",
        "    auc1.append(tmp[0])\n",
        "    acc1.append(tmp[1])\n",
        "    prec1.append(tmp[2])\n",
        "    vuln1.append(tmp[3])\n",
        "    # accurate sub-group info ... \n",
        "    tmp[4]['Num'] = np.full( (tmp[4].shape[0], ) , i )\n",
        "    dt1 = pd.concat( (dt1 , tmp[4]) , axis = 0 , ignore_index = True   )\n",
        "\n",
        "  # change to array   \n",
        "  auc1  = np.array(auc1)\n",
        "  acc1  = np.array(acc1)\n",
        "  prec1 = np.array(prec1)\n",
        "  vuln1 = np.array(vuln1)\n",
        "  vuln1_est = np.array(vuln1_est)\n",
        "  ks = np.array(ks)\n",
        "\n",
        "  plt.hist(vuln1)\n",
        "  plt.title(\"Theoretical Vulnerability Estimator\")\n",
        "  plt.show()\n",
        "\n",
        "  plt.hist(vuln1_est)\n",
        "  plt.title(\"Shadow Model Vulnerability Estimator\")\n",
        "  plt.show()\n",
        "   \n",
        "  # END OF SIMULATION \n",
        "  # Analysis Code \n",
        "\n",
        "  def f1(x):\n",
        "    d = {}\n",
        "    d['Average'] = x['Vulnerability_emp'].mean()\n",
        "    d['Std'] = x['Vulnerability_emp'].std()\n",
        "    return pd.Series(d, index=['Average', 'Std'])\n",
        "\n",
        "  def f2(x):\n",
        "    d = {}\n",
        "    d['Average'] = x['Vulnerability_theory'].mean()\n",
        "    d['Std'] = x['Vulnerability_theory'].std()\n",
        "    return pd.Series(d, index=['Average', 'Std'])    \n",
        "\n",
        "\n",
        "  if zero_one_output:\n",
        "    dt2_melt = pd.melt( dt2, id_vars =  ['Num'], value_name = \"Vulnerability\" , var_name = 'race')\n",
        "    dt1_sub = dt1[['race', 'Num' , 'Vulnerability']]\n",
        "    full = dt1_sub.merge( dt2_melt , on =['race','Num' ] , suffixes = (\"_emp\" , \"_theory\"))\n",
        "    print(\"Zero One Loss Estimator\")\n",
        "    full.race.astype('string')\n",
        "    for j in list(full['race'].unique() ):\n",
        "      idx = np.where(full['race'] == j , True , False)\n",
        "      print(\"Corr\" , j , full.loc[idx][ ['Vulnerability_theory','Vulnerability_emp' ] ].corr())\n",
        "      plt.plot( full.loc[idx, 'Vulnerability_theory'],\n",
        "                full.loc[idx, 'Vulnerability_emp'],\n",
        "                 'o',\n",
        "                 label = j )\n",
        "    plt.xlabel(\"Worst Case Estimate\")\n",
        "    plt.ylabel(\"Shadow Model Estimate\")  \n",
        "    plt.title(\"Group Vulnerability\")  \n",
        "    plt.legend()\n",
        "    plt.show()\n",
        "\n",
        "    print(\"Zero One Loss Estimator Overall\")\n",
        "    plt.plot(vuln1_est,vuln1,'o')\n",
        "    plt.xlabel(\"Worst Case Estimate\")\n",
        "    plt.ylabel(\"Shadow Model Estimate\")  \n",
        "    plt.title(\"Vulnerability\")\n",
        "    plt.show()\n",
        "    print( np.corrcoef(vuln1_est, vuln1)  )  \n",
        "\n",
        "      \n",
        "    print(\"Empirical Estimates\")\n",
        "    print( full.groupby('race').apply(f1) ) \n",
        "\n",
        "    print(\"Theoretical Estimates\")\n",
        "    print( full.groupby('race').apply(f2) ) \n",
        "\n",
        "  else:\n",
        "    dt2_melt = pd.melt( dt2, id_vars =  ['Estimator','Num'], value_name = \"Vulnerability\" , var_name = 'race')\n",
        "    dt1_sub = dt1[['race', 'Num' , 'Vulnerability']]\n",
        "    full = dt1_sub.merge( dt2_melt , on =['race','Num' ] , suffixes = (\"_emp\" , \"_theory\"))\n",
        "\n",
        "    print(\"KS ESTIMATOR\")\n",
        "    full.race.astype('string')\n",
        "    for j in list(full['race'].unique() ):\n",
        "      idx = np.where( np.logical_and(full['race'] == j,full['Estimator'] == 'KS' ) , True , False)\n",
        "      print(\"Corr\" , j , full.loc[idx][ ['Vulnerability_theory','Vulnerability_emp' ] ].corr(numeric_only = False ))\n",
        "      plt.plot( full.loc[idx, 'Vulnerability_theory'],\n",
        "               full.loc[idx, 'Vulnerability_emp'],\n",
        "                'o',\n",
        "                label = j )\n",
        "    plt.legend()\n",
        "    plt.show()\n",
        "\n",
        "    print(\"TVD ESTIMATOR\")\n",
        "    full.race.astype('string')\n",
        "    for j in list(full['race'].unique() ):\n",
        "      idx = np.where( np.logical_and(full['race'] == j,full['Estimator'] == 'TVD' ) , True , False)\n",
        "      print(\"Corr\" , j , full.loc[idx][ ['Vulnerability_theory','Vulnerability_emp' ] ].corr(numeric_only = False))\n",
        "      plt.plot( full.loc[idx, 'Vulnerability_theory'],\n",
        "                full.loc[idx, 'Vulnerability_emp'],\n",
        "                'o',\n",
        "                label = j )\n",
        "    plt.legend()\n",
        "    plt.show()\n",
        "\n",
        "    print(\"Estimator Correlation with Attack \")\n",
        "    print(\"KS LB Estimator\")\n",
        "    plt.plot(ks,vuln1,'o')\n",
        "    plt.show()\n",
        "    print( np.corrcoef(ks, vuln1) )\n",
        "\n",
        "    print(\"TVD Estimator\")\n",
        "    plt.plot(vuln1_est,vuln1,'o')\n",
        "    plt.show()\n",
        "    print( np.corrcoef(vuln1_est, vuln1)  )    \n",
        "    \n",
        "    #\n",
        "    print(\"Empirical Estimate\")\n",
        "    print( full.loc[ full['Estimator'] == \"TVD\" ].groupby('race').apply(f1) ) \n",
        "\n",
        "    print(\"Theoretical Estimate TVD\")\n",
        "    print( full.loc[ full['Estimator'] == \"TVD\" ].groupby('race').apply(f2) ) \n",
        "\n",
        "    print(\"Theoretical Estimate KS\")\n",
        "    print( full.loc[ full['Estimator'] == \"KS\" ].groupby('race').apply(f2) ) \n",
        "\n",
        "\n",
        "\n",
        "  # disparity of empirical attacks \n",
        "  ax = sns.boxplot(x='race', y='Vulnerability', data=dt1_sub, color='#99c2a2')\n",
        "  ax.set_xticklabels(ax.get_xticklabels(),rotation=30)\n",
        "  plt.show()\n",
        "\n",
        "\n",
        "  res = AnovaRM( dt1_sub , 'Vulnerability' , 'Num' , within = ['race']).fit()\n",
        "  print( res.anova_table ) \n",
        "\n",
        "\n",
        "\n",
        "  _, _ , tbl= MultiComparison(\n",
        "            data=dt1_sub['Vulnerability'],\n",
        "            groups=dt1_sub['race'],\n",
        "        ).allpairtest(stats.ttest_rel, alpha=0.01, method=\"fdr_bh\")\n",
        "  print(tbl)\n",
        "  return(full)"
      ],
      "metadata": {
        "id": "b5Le9k4k5Zzm"
      },
      "execution_count": null,
      "outputs": []
    },
    {
      "cell_type": "markdown",
      "source": [
        "Logistic Regression Victim - With Zero One Loss Release Mechanism"
      ],
      "metadata": {
        "id": "tsnA8wiK5soB"
      }
    },
    {
      "cell_type": "code",
      "source": [
        "out = run_privacy_experiments(num_sims = 200 ,\n",
        "                             group_aware = False ,\n",
        "                            zero_one_output = True,\n",
        "                            model_obj = LogisticRegression ,\n",
        "                            sklearn_model =  True )"
      ],
      "metadata": {
        "colab": {
          "base_uri": "https://localhost:8080/",
          "height": 1000
        },
        "id": "y6ll7Epk5sDn",
        "outputId": "0781637c-a1ab-494c-f8e4-756c716e996a"
      },
      "execution_count": null,
      "outputs": [
        {
          "output_type": "display_data",
          "data": {
            "text/plain": [
              "<Figure size 640x480 with 1 Axes>"
            ],
            "image/png": "[encoded data removed]"
          },
          "metadata": {}
        },
        {
          "output_type": "display_data",
          "data": {
            "text/plain": [
              "<Figure size 640x480 with 1 Axes>"
            ],
            "image/png": "[encoded data removed]"
          },
          "metadata": {}
        },
        {
          "output_type": "stream",
          "name": "stdout",
          "text": [
            "Zero One Loss Estimator\n",
            "Corr Amer-Indian-Eskimo                       Vulnerability_theory  Vulnerability_emp\n",
            "Vulnerability_theory               1.00000           -0.07868\n",
            "Vulnerability_emp                 -0.07868            1.00000\n",
            "Corr Asian-Pac-Islander                       Vulnerability_theory  Vulnerability_emp\n",
            "Vulnerability_theory              1.000000           0.263263\n",
            "Vulnerability_emp                 0.263263           1.000000\n",
            "Corr Black                       Vulnerability_theory  Vulnerability_emp\n",
            "Vulnerability_theory              1.000000           0.195154\n",
            "Vulnerability_emp                 0.195154           1.000000\n",
            "Corr Other                       Vulnerability_theory  Vulnerability_emp\n",
            "Vulnerability_theory              1.000000           0.025678\n",
            "Vulnerability_emp                 0.025678           1.000000\n",
            "Corr White                       Vulnerability_theory  Vulnerability_emp\n",
            "Vulnerability_theory              1.000000           0.308346\n",
            "Vulnerability_emp                 0.308346           1.000000\n"
          ]
        },
        {
          "output_type": "display_data",
          "data": {
            "text/plain": [
              "<Figure size 640x480 with 1 Axes>"
            ],
            "image/png": "[encoded data removed]"
          },
          "metadata": {}
        },
        {
          "output_type": "stream",
          "name": "stdout",
          "text": [
            "Zero One Loss Estimator Overall\n"
          ]
        },
        {
          "output_type": "display_data",
          "data": {
            "text/plain": [
              "<Figure size 640x480 with 1 Axes>"
            ],
            "image/png": "[encoded data removed]"
          },
          "metadata": {}
        },
        {
          "output_type": "stream",
          "name": "stdout",
          "text": [
            "[[1.         0.39535561]\n",
            " [0.39535561 1.        ]]\n",
            "Empirical Estimates\n",
            "                     Average       Std\n",
            "race                                  \n",
            "Amer-Indian-Eskimo -0.006376  0.049096\n",
            "Asian-Pac-Islander  0.005716  0.028068\n",
            "Black               0.001080  0.015765\n",
            "Other               0.002308  0.054815\n",
            "White               0.001190  0.004250\n",
            "Theoretical Estimates\n",
            "                     Average       Std\n",
            "race                                  \n",
            "Amer-Indian-Eskimo  0.020105  0.015892\n",
            "Asian-Pac-Islander  0.019638  0.013950\n",
            "Black               0.006858  0.005346\n",
            "Other               0.019621  0.014796\n",
            "White               0.003401  0.002808\n"
          ]
        },
        {
          "output_type": "display_data",
          "data": {
            "text/plain": [
              "<Figure size 640x480 with 1 Axes>"
            ],
            "image/png": "[encoded data removed]"
          },
          "metadata": {}
        },
        {
          "output_type": "stream",
          "name": "stdout",
          "text": [
            "       F Value  Num DF  Den DF    Pr > F\n",
            "race  2.940451     4.0   796.0  0.019808\n",
            "[('Amer-Indian-Eskimo', 'Asian-Pac-Islander', -2.938 , 0.0037, 0.0369, False)\n",
            " ('Amer-Indian-Eskimo', 'Black', -2.0907, 0.0378, 0.0946, False)\n",
            " ('Amer-Indian-Eskimo', 'Other', -1.6189, 0.107 , 0.1784, False)\n",
            " ('Amer-Indian-Eskimo', 'White', -2.1694, 0.0312, 0.0946, False)\n",
            " ('Asian-Pac-Islander', 'Black',  1.9929, 0.0476, 0.0953, False)\n",
            " ('Asian-Pac-Islander', 'Other',  0.761 , 0.4475, 0.6393, False)\n",
            " ('Asian-Pac-Islander', 'White',  2.2313, 0.0268, 0.0946, False)\n",
            " ('Black', 'Other', -0.3084, 0.7581, 0.8618, False)\n",
            " ('Black', 'White', -0.0889, 0.9293, 0.9293, False)\n",
            " ('Other', 'White',  0.2855, 0.7756, 0.8618, False)]\n"
          ]
        }
      ]
    },
    {
      "cell_type": "markdown",
      "source": [
        "Neural Network Victim - With Zero One Loss Release Mechansim"
      ],
      "metadata": {
        "id": "d7QBpuyR5xMD"
      }
    },
    {
      "cell_type": "code",
      "source": [
        "out = run_privacy_experiments(num_sims = 200,\n",
        "                             group_aware = False ,\n",
        "                            zero_one_output = True,\n",
        "                            model_obj = nn_victim ,\n",
        "                            sklearn_model =  False)"
      ],
      "metadata": {
        "id": "xGH_3RLQ53bm"
      },
      "execution_count": null,
      "outputs": []
    }
  ]
}